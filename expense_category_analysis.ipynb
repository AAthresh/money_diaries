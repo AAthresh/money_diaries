{
 "cells": [
  {
   "cell_type": "code",
   "execution_count": 15,
   "metadata": {},
   "outputs": [],
   "source": [
    "import pandas as pd\n",
    "import numpy\n",
    "import json\n",
    "import statistics as s\n",
    "import numpy as np\n",
    "from sklearn.feature_extraction.text import TfidfVectorizer\n",
    "from sklearn.cluster import KMeans\n",
    "import re\n",
    "from collections import OrderedDict\n"
   ]
  },
  {
   "cell_type": "code",
   "execution_count": 16,
   "metadata": {},
   "outputs": [],
   "source": [
    "header_df = pd.read_json('~/WWData/money_diaries/data/raw_basic_info.json')\n",
    "diary_df = pd.read_json('~/WWData/money_diaries/data/raw_diaries.json')"
   ]
  },
  {
   "cell_type": "code",
   "execution_count": 17,
   "metadata": {},
   "outputs": [],
   "source": [
    "header_df = header_df.T"
   ]
  },
  {
   "cell_type": "code",
   "execution_count": 18,
   "metadata": {},
   "outputs": [],
   "source": [
    "cols = [x for x in header_df.columns if len(x) <= 100 ]\n",
    "#for col in cols:\n",
    "    #print(col)\n"
   ]
  },
  {
   "cell_type": "code",
   "execution_count": 19,
   "metadata": {},
   "outputs": [],
   "source": [
    "df = header_df.loc[:, header_df.isnull().mean() < .8]"
   ]
  },
  {
   "cell_type": "code",
   "execution_count": 20,
   "metadata": {},
   "outputs": [],
   "source": [
    "vectorizer = TfidfVectorizer(stop_words='english')\n",
    "X = vectorizer.fit_transform(cols)\n",
    "\n",
    "true_k = 10\n",
    "model = KMeans(n_clusters=true_k, init='k-means++', max_iter=100, n_init=1)\n",
    "model.fit(X)\n",
    "\n",
    "order_centroids = model.cluster_centers_.argsort()[:, ::-1]\n",
    "terms = vectorizer.get_feature_names()"
   ]
  },
  {
   "cell_type": "code",
   "execution_count": null,
   "metadata": {},
   "outputs": [],
   "source": [
    "for i in range(true_k):\n",
    "    print(f'Cluster {i}'),\n",
    "    for ind in order_centroids[i, :20]:\n",
    "        print(f' {terms[ind]}')"
   ]
  },
  {
   "cell_type": "code",
   "execution_count": 22,
   "metadata": {},
   "outputs": [],
   "source": [
    "categories = OrderedDict()\n",
    "\n",
    "categories['income'] = ['paycheck','salary','income']\n",
    "categories['investments'] = ['401 k','401','401k','roth','ira','savings','investments','retirement']\n",
    "\n",
    "categories['insurance'] = ['insurance']\n",
    "categories['health'] = ['hsa','fsa','dental','therapy','medication','disability','vision','medical','health']\n",
    "categories['home'] =  ['mortgage','renter s insurance','rent','renters','property tax','hoa','housing','home']\n",
    "categories['utilities'] =  ['internet','wifi','electric','electricity','water','cable','utility','utilities']\n",
    "categories['car'] = ['auto','fuel','car']\n",
    "categories['entertainment'] = ['netflix','hulu','hbo','amazon prime','apple','disney','spotify']\n",
    "categories['debt']  =  ['credit card','student loan','loans','debt']\n",
    "categories['pet'] = ['cat','dog','pet']\n",
    "\n"
   ]
  },
  {
   "cell_type": "code",
   "execution_count": 23,
   "metadata": {},
   "outputs": [],
   "source": [
    "training_data = {}\n",
    "for col in cols :\n",
    "    col = re.sub('\\W+',' ', col ).lower()\n",
    "    training_data[col] = None\n",
    "    for k,v in categories.items():\n",
    "        for tag in v :\n",
    "            if re.search(rf\"\\w?\\b{tag}\\b\\w?\",col): \n",
    "                training_data[col] = k         \n",
    "        \n",
    "    if training_data[col] is None :\n",
    "        training_data[col] = 'other'\n"
   ]
  },
  {
   "cell_type": "code",
   "execution_count": 24,
   "metadata": {},
   "outputs": [],
   "source": [
    "unlabeled_data = { k: v for k,v in training_data.items() if v =='other' }\n",
    "labeled_data = { k: v for k,v in training_data.items() if v !='other' }"
   ]
  },
  {
   "cell_type": "code",
   "execution_count": null,
   "metadata": {},
   "outputs": [],
   "source": [
    "labeled_data"
   ]
  }
 ],
 "metadata": {
  "kernelspec": {
   "display_name": "Python 3",
   "language": "python",
   "name": "python3"
  },
  "language_info": {
   "codemirror_mode": {
    "name": "ipython",
    "version": 3
   },
   "file_extension": ".py",
   "mimetype": "text/x-python",
   "name": "python",
   "nbconvert_exporter": "python",
   "pygments_lexer": "ipython3",
   "version": "3.8.3"
  }
 },
 "nbformat": 4,
 "nbformat_minor": 4
}
