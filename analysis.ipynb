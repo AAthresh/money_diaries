{
 "cells": [
  {
   "cell_type": "code",
   "execution_count": 4,
   "metadata": {},
   "outputs": [],
   "source": [
    "import pandas as pd\n",
    "import numpy\n",
    "import json"
   ]
  },
  {
   "cell_type": "code",
   "execution_count": 9,
   "metadata": {},
   "outputs": [],
   "source": [
    "df = pd.read_json('~/WWData/money_diaries/data/raw_basic_info.json')"
   ]
  },
  {
   "cell_type": "code",
   "execution_count": 10,
   "metadata": {},
   "outputs": [
    {
     "data": {
      "text/html": [
       "<div>\n",
       "<style scoped>\n",
       "    .dataframe tbody tr th:only-of-type {\n",
       "        vertical-align: middle;\n",
       "    }\n",
       "\n",
       "    .dataframe tbody tr th {\n",
       "        vertical-align: top;\n",
       "    }\n",
       "\n",
       "    .dataframe thead th {\n",
       "        text-align: right;\n",
       "    }\n",
       "</style>\n",
       "<table border=\"1\" class=\"dataframe\">\n",
       "  <thead>\n",
       "    <tr style=\"text-align: right;\">\n",
       "      <th></th>\n",
       "      <th>icu-nurse-los-angeles-ca-salary-money-diary</th>\n",
       "      <th>graduate-researcher-portland-or-salary-money-diary</th>\n",
       "      <th>technical-reviewer-central-valley-ca-salary-money-diary</th>\n",
       "      <th>product-director-billings-mt-salary-money-diary</th>\n",
       "      <th>teacher-los-angeles-ca-salary-money-diary</th>\n",
       "      <th>social-worker-northern-virginia-salary-money-diary</th>\n",
       "      <th>pharmacist-upstate-new-york-salary-money-diary</th>\n",
       "      <th>unemployment-los-angeles-ca-salary-money-diary</th>\n",
       "      <th>disability-texas-salary-money-diary-extra</th>\n",
       "      <th>business-consultant-washington-dc-salary-money-diary</th>\n",
       "      <th>...</th>\n",
       "      <th>money-diary-san-francisco-tech</th>\n",
       "      <th>money-diary-new-york-teacher-mother</th>\n",
       "      <th>money-diary-austin-budget</th>\n",
       "      <th>money-diary-portland-budget</th>\n",
       "      <th>money-diary-fashion-editor-new-york-city-budget</th>\n",
       "      <th>money-diary-new-york-city-budget-valentines-day</th>\n",
       "      <th>money-diary-tech-woman-los-angeles-budget</th>\n",
       "      <th>money-diary-photo-director-new-york-city-budget</th>\n",
       "      <th>money-diary-product-manager-new-york-city-budget</th>\n",
       "      <th>money-diary-designer-new-york-city</th>\n",
       "    </tr>\n",
       "  </thead>\n",
       "  <tbody>\n",
       "  </tbody>\n",
       "</table>\n",
       "<p>0 rows × 1148 columns</p>\n",
       "</div>"
      ],
      "text/plain": [
       "Empty DataFrame\n",
       "Columns: [icu-nurse-los-angeles-ca-salary-money-diary, graduate-researcher-portland-or-salary-money-diary, technical-reviewer-central-valley-ca-salary-money-diary, product-director-billings-mt-salary-money-diary, teacher-los-angeles-ca-salary-money-diary, social-worker-northern-virginia-salary-money-diary, pharmacist-upstate-new-york-salary-money-diary, unemployment-los-angeles-ca-salary-money-diary, disability-texas-salary-money-diary-extra, business-consultant-washington-dc-salary-money-diary, student-jerusalem-israel-salary-money-diary, unemployed-washington-dc-salary-money-diary, landscaping-consultant-san-jose-ca-salary-money-diary, education-director-brooklyn-ny-salary-money-diary, consultant-ski-town-co-salary-money-diary, bay-area-ca-unemployed-salary-money-diary, director-of-patient-care-north-carolina-salary-money-diary, veterinarian-technician-san-diego-ca-salary-money-diary, graduate-student-dallas-tx-salary-money-diary, resident-physician-tennessee-salary-money-diary, school-teacher-alaskan-bush-salary-money-diary, digital-communications-portland-or-salary-money-diary, intelligence-analyst-northern-virginia-salary-money-diary, software-engineer-nashville-tn-salary-money-diary, military-band-member-illinois-salary-money-diary, teacher-missouri-salary-money-diary, executive-director-st-petersburg-fl-salary-money-diary, junior-analyst-washington-dc-salary-money-diary, hr-leader-wichita-ks-salary-money-diary, social-worker-midwest-salary-money-diary, digital-operations-manager-brooklyn-ny-salary-money-diary, compliance-supervisor-tulsa-ok-salary-money-diary, operations-coordinator-chicago-il-salary-money-diary, account-manager-los-angeles-ca-salary-money-diary, dietitian-queensland-australia-salary-money-diary, financial-analyst-san-francisco-ca-salary-money-diary, designer-brooklyn-ny-salary-money-diary-2, unemployed-burbank-ca-salary-money-diary, director-of-partnerships-utah-salary-money-diary, behavioral-health-aide-anchorage-ak-salary-money-diary, communications-manager-san-francisco-ca-salary-money-diary, immigration-attorney-long-beach-ca-salary-money-diary, teaching-assistant-vermont-salary-money-diary, promotions-coordinator-chicago-suburbs-il-salary-money-diary, account-executive-atlanta-ga-salary-money-diary, field-organizer-denver-colorado-salary-money-diary, registered-nurse-wisconsin-salary-money-diary, accountant-santa-cruz-salary-money-diary, marketing-director-cincinnati-oh-salary-money-diary, dental-assistant-saudi-arabia-salary-money-diary, host-san-francisco-ca-salary-money-diary, server-columbus-oh-salary-money-diary, product-manager-silicon-valley-ca-salary-money-diary, research-and-development-vp-suburbs-new-york-city-salary-money-diary, communications-manager-los-angeles-ca-salary-money-diary, librarian-richmond-va-salary-money-diary, publicist-brooklyn-ny-salary-money-diary, physician-midwestern-city-salary-money-diary, senior-account-executive-central-maine-salary-money-diary, screenwriter-saint-paul-mn-salary-money-diary, fine-gardener-coastal-massachusetts-salary-money-diary, it-analyst-tampa-fl-salary-money-diary, producer-los-angeles-ca-salary-money-diary, database-developer-east-kansas-salary-money-diary, project-manager-prince-georges-county-salary-money-diary, cheesemonger-los-angeles-ca-salary-money-diary, communications-director-berkeley-ca-salary-money-diary, student-north-carolina-college-money-diary, assistant-professor-new-orleans-la-salary-money-diary, director-external-relations-chicago-il-salary-money-diary, marketing-intern-michigan-tuition-college-money-diary, unemployed-cleveland-oh-salary-money-diary-extras-follow-up, lawyer-salt-lake-city-ut-salary-money-diary, advertising-product-manager-portland-or-salary-money-diary, student-texas-tuition-money-diary, software-engineer-brooklyn-ny-salary-money-diary, marketing-coordinator-cannabis-los-angeles-ca-salary-money-diary, history-major-western-massachusetts-tuition-money-diary, communications-manager-forest-hills-ny-salary-money-diary, career-nanny-ulster-county-ny-salary-money-diary, public-health-major-university-detroit-mi-tuition-college-money-diary, pr-manager-new-york-ny-salary-money-diary, retail-freelance-publicist-louisiana-salary-money-diary, system-analyst-mesa-arizona-salary-money-diary, human-development-major-new-york-tuition-college-money-diary, project-coordinator-great-lakes-sailboat-salary-money-diary, music-education-major-university-massachusetts-tuition-money-diary, sales-representative-new-york-ny-salary-money-diary, media-buyer-cleveland-oh-salary-money-diary, clinical-researcher-seattle-wa-salary-money-diary, student-new-your-ny-salary-money-diary, biotech-analyst-san-mateo-ca-salary-money-diary, case-manager-portland-or-salary-money-diary, unemployed-new-york-ny-money-diary, associate-manager-singapore-salary-money-diary, childcare-worker-texas-salary-money-diary, photojournalist-western-south-carolina-salary-money-diary, attorney-maryland-salary-money-diary, teacher-northern-canada-salary-money-diary, analyst-new-york-ny-salary-money-diary, ...]\n",
       "Index: []\n",
       "\n",
       "[0 rows x 1148 columns]"
      ]
     },
     "execution_count": 10,
     "metadata": {},
     "output_type": "execute_result"
    }
   ],
   "source": [
    "df.head(n=10)"
   ]
  },
  {
   "cell_type": "code",
   "execution_count": null,
   "metadata": {},
   "outputs": [],
   "source": []
  }
 ],
 "metadata": {
  "kernelspec": {
   "display_name": "Python 3",
   "language": "python",
   "name": "python3"
  },
  "language_info": {
   "codemirror_mode": {
    "name": "ipython",
    "version": 3
   },
   "file_extension": ".py",
   "mimetype": "text/x-python",
   "name": "python",
   "nbconvert_exporter": "python",
   "pygments_lexer": "ipython3",
   "version": "3.8.3"
  }
 },
 "nbformat": 4,
 "nbformat_minor": 4
}
