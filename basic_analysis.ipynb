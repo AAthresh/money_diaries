{
 "cells": [
  {
   "cell_type": "code",
   "execution_count": 7,
   "metadata": {},
   "outputs": [],
   "source": [
    "import pandas as pd\n",
    "import numpy\n",
    "import re\n",
    "from geopy.geocoders import Nominatim\n",
    "geolocator = Nominatim(user_agent='basic_analysis')\n"
   ]
  },
  {
   "cell_type": "code",
   "execution_count": 2,
   "metadata": {},
   "outputs": [],
   "source": [
    "header_df = pd.read_json('~/WWData/money_diaries/data/raw_basic_info.json')\n",
    "diary_df = pd.read_json('~/WWData/money_diaries/data/raw_diaries.json')"
   ]
  },
  {
   "cell_type": "code",
   "execution_count": 3,
   "metadata": {},
   "outputs": [],
   "source": [
    "header_df = header_df.T"
   ]
  },
  {
   "cell_type": "code",
   "execution_count": 4,
   "metadata": {},
   "outputs": [],
   "source": [
    "header_df['Salary'] = header_df['Salary'].combine_first(header_df['My Income'])\n",
    "header_df['Occupation'] = header_df['Occupation'].combine_first(header_df['Industry'])\n",
    "basic_df = header_df[['Occupation','Age','Location','Salary']]\n",
    "\n",
    "# TODO : Losing about 400 diaries\n",
    "basic_df=basic_df.dropna()"
   ]
  },
  {
   "cell_type": "code",
   "execution_count": null,
   "metadata": {},
   "outputs": [],
   "source": [
    "def normalize_income(x):\n",
    "    match = re.findall(r'\\d+,\\d+', str(x))\n",
    "    y = 0\n",
    "    if match :\n",
    "        y = int(match[0].replace(',',''))\n",
    "    return y\n",
    "\n",
    "def normalize_age(x):\n",
    "    match = re.findall(r'\\d+', str(x))\n",
    "    y = 0\n",
    "    if match :\n",
    "        y = int(match[0])\n",
    "    return y\n",
    "    \n",
    "def get_coordinates(x):\n",
    "    location = geolocator.geocode(x)\n",
    "    lat=long=None\n",
    "    if location is not None :\n",
    "        lat = location.latitude\n",
    "        long = location.longitude\n",
    "        \n",
    "    return lat,long\n",
    "        \n",
    "        \n",
    "  \n",
    "basic_df['Income'] = basic_df['Salary'].apply(lambda x: normalize_income(x))\n",
    "basic_df['Age'] = basic_df['Age'].apply(lambda x: normalize_age(x))\n",
    "basic_df['Lat'],basic_df['Lon'] = basic_df['Location'].apply(lambda x : get_coordinates(x))"
   ]
  },
  {
   "cell_type": "code",
   "execution_count": null,
   "metadata": {},
   "outputs": [],
   "source": [
    "basic_df[['Occupation','Age','Location','Income','Lat','Lon']]"
   ]
  }
 ],
 "metadata": {
  "kernelspec": {
   "display_name": "Python 3",
   "language": "python",
   "name": "python3"
  },
  "language_info": {
   "codemirror_mode": {
    "name": "ipython",
    "version": 3
   },
   "file_extension": ".py",
   "mimetype": "text/x-python",
   "name": "python",
   "nbconvert_exporter": "python",
   "pygments_lexer": "ipython3",
   "version": "3.8.3"
  }
 },
 "nbformat": 4,
 "nbformat_minor": 4
}
